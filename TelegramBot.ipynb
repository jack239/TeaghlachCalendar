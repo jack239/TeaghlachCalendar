{
 "cells": [
  {
   "cell_type": "code",
   "execution_count": 1,
   "metadata": {
    "collapsed": true
   },
   "outputs": [],
   "source": [
    "# !pip install telepot\n",
    "# !pip install telepot --upgrade\n",
    "# !pip install pyTelegramBotAPI"
   ]
  },
  {
   "cell_type": "code",
   "execution_count": 2,
   "metadata": {
    "collapsed": true
   },
   "outputs": [],
   "source": [
    "import codecs\n",
    "def getNews():\n",
    "    nfile = codecs.open('News.txt','r',encoding='utf8')     \n",
    "    return u''.join(nfile)"
   ]
  },
  {
   "cell_type": "code",
   "execution_count": 3,
   "metadata": {
    "collapsed": true,
    "scrolled": false
   },
   "outputs": [],
   "source": [
    "from datetime import datetime\n",
    "from googleCalendar import getShedule, create_calendar, getWeeklyShedule\n",
    "def processShedule(data):\n",
    "    if data[0] == 'getSheduleToday':\n",
    "        return getWeeklyShedule()\n",
    "    elif data[0] == 'getSheduleTommoroe':\n",
    "        return getWeeklyShedule(offset = 1)\n",
    "    elif data[0] == 'getSheduleWeekly':\n",
    "        return getWeeklyShedule(week = True)\n",
    "    elif data[0] == 'getSheduleNextWeekly':\n",
    "        return getWeeklyShedule(week = True, offset = 7)\n",
    "    elif data[0] == 'getSheduleDay':\n",
    "        return getWeeklyShedule(day = map(int, data[1:]))\n",
    "\n",
    "def createMarkup(keys):\n",
    "    buttons = []\n",
    "    for row in keys:\n",
    "        rbuttons = []\n",
    "        for k in row:\n",
    "            callback = 'ignore' if len(k) == 1 else k[1]\n",
    "            rbuttons.append(InlineKeyboardButton(text = k[0], callback_data = callback))\n",
    "        buttons.append(rbuttons)\n",
    "    return InlineKeyboardMarkup(inline_keyboard=buttons)\n",
    "\n",
    "def createCalendar(chat_id, date = None):\n",
    "    if date is None:\n",
    "        now = datetime.now()\n",
    "        return createMarkup(create_calendar(now.year,now.month))\n",
    "    return createMarkup(create_calendar(date / 12, date % 12 + 1))"
   ]
  },
  {
   "cell_type": "code",
   "execution_count": null,
   "metadata": {
    "collapsed": true
   },
   "outputs": [],
   "source": [
    "def addNews(news):\n",
    "    nfile = codecs.open('News.txt','a',encoding='utf8')     "
   ]
  },
  {
   "cell_type": "code",
   "execution_count": 8,
   "metadata": {},
   "outputs": [
    {
     "name": "stdout",
     "output_type": "stream",
     "text": [
      "{u'from': {u'username': u'djack239', u'first_name': u'Evgeny', u'last_name': u'Demenkov', u'is_bot': False, u'language_code': u'ru', u'id': 370136783}, u'text': u'/addNews', u'entities': [{u'length': 8, u'type': u'bot_command', u'offset': 0}], u'chat': {u'username': u'djack239', u'first_name': u'Evgeny', u'last_name': u'Demenkov', u'type': u'private', u'id': 370136783}, u'date': 1509528754, u'message_id': 541}\n",
      "handleImpl /addNews\n"
     ]
    }
   ],
   "source": [
    "def handleImpl(msg):\n",
    "    print msg\n",
    "    content_type, chat_type, chat_id = telepot.glance(msg)\n",
    "    request = msg['text'].split(' ')\n",
    "    print 'handleImpl', request[0]\n",
    "    if request[0] == '/schedule':\n",
    "        markup = createCalendar(chat_id)\n",
    "        bot.sendMessage(chat_id, 'Выбирите день', reply_markup=markup)\n",
    "        \n",
    "    elif request[0] == '/news':\n",
    "        bot.sendMessage(chat_id, getNews())\n",
    "    elif request[0] == '/addNews' and msg['from']['username'] == 'djack239':\n",
    "        addNews(request[1:])\n",
    "\n",
    "def callbackImpl(msg):\n",
    "    query_id, chat_id, query_data = telepot.glance(msg, flavor='callback_query')\n",
    "    data = query_data.split(' ')\n",
    "    print 'callbackImpl, data', data\n",
    "    shed = processShedule(data)\n",
    "    if shed:\n",
    "        bot.sendMessage(chat_id, u'\\n'.join(shed))\n",
    "        return\n",
    "    if data[0] == 'calendar' and len(data) > 1:\n",
    "        try:\n",
    "            date = int(data[1])\n",
    "            markup = createCalendar(chat_id, date)\n",
    "            bot.sendMessage(chat_id, 'Выбирите день', reply_markup=markup)\n",
    "        except:\n",
    "            pass\n",
    "\n",
    "def choseImpl(msg):\n",
    "    print 'choseImpl', msg"
   ]
  },
  {
   "cell_type": "code",
   "execution_count": 5,
   "metadata": {
    "collapsed": true
   },
   "outputs": [],
   "source": [
    "def handle(msg):\n",
    "    return handleImpl(msg)\n",
    "def callback(msg):\n",
    "    return callbackImpl(msg)\n",
    "def chose(msg):\n",
    "    return choseImpl(msg)\n",
    "\n",
    "from telepot.loop import MessageLoop\n",
    "import telepot\n",
    "from telepot.namedtuple import InlineKeyboardMarkup, InlineKeyboardButton, ReplyKeyboardMarkup, KeyboardButton\n",
    "token = next(open('token.txt'))\n",
    "bot = telepot.Bot(token)\n",
    "MessageLoop(bot, {'chat': handle,\n",
    "                  'callback_query': callback,\n",
    "                  'chosen_inline_result': chose}).run_as_thread()"
   ]
  },
  {
   "cell_type": "code",
   "execution_count": 6,
   "metadata": {
    "collapsed": true
   },
   "outputs": [],
   "source": [
    "import locale\n",
    "# locale.setlocale(locale.LC_ALL, 'ru_RU.UTF-8')"
   ]
  },
  {
   "cell_type": "code",
   "execution_count": 7,
   "metadata": {},
   "outputs": [
    {
     "data": {
      "text/plain": [
       "1"
      ]
     },
     "execution_count": 7,
     "metadata": {},
     "output_type": "execute_result"
    }
   ],
   "source": [
    "1"
   ]
  },
  {
   "cell_type": "code",
   "execution_count": null,
   "metadata": {
    "collapsed": true
   },
   "outputs": [],
   "source": []
  }
 ],
 "metadata": {
  "kernelspec": {
   "display_name": "Python 2",
   "language": "python",
   "name": "python2"
  },
  "language_info": {
   "codemirror_mode": {
    "name": "ipython",
    "version": 2
   },
   "file_extension": ".py",
   "mimetype": "text/x-python",
   "name": "python",
   "nbconvert_exporter": "python",
   "pygments_lexer": "ipython2",
   "version": "2.7.13"
  }
 },
 "nbformat": 4,
 "nbformat_minor": 2
}
