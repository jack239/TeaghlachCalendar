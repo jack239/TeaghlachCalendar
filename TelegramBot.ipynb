{
 "cells": [
  {
   "cell_type": "code",
   "execution_count": 1,
   "metadata": {
    "collapsed": true
   },
   "outputs": [],
   "source": [
    "# !pip install telepot\n",
    "# !pip install telepot --upgrade\n",
    "# !pip install pyTelegramBotAPI\n",
    "# !pip install icalendar\n",
    "# !pip install django"
   ]
  },
  {
   "cell_type": "code",
   "execution_count": 2,
   "metadata": {
    "collapsed": true
   },
   "outputs": [],
   "source": [
    "from telepot.loop import MessageLoop\n",
    "import telepot"
   ]
  },
  {
   "cell_type": "code",
   "execution_count": 3,
   "metadata": {
    "collapsed": true,
    "scrolled": false
   },
   "outputs": [],
   "source": [
    "from libs.googleCalendar import createCalendar, processCalendar\n",
    "from libs.feisBot import feisCallback\n",
    "from libs.botUtils import createMarkup"
   ]
  },
  {
   "cell_type": "code",
   "execution_count": 4,
   "metadata": {
    "collapsed": true
   },
   "outputs": [],
   "source": [
    "import codecs\n",
    "def addNews(news):\n",
    "    print 'addNews', news\n",
    "    nfile = codecs.open('News.txt','a',encoding='utf8')     \n",
    "    nfile.write('\\n')\n",
    "    nfile.write(news)\n",
    "    nfile.close()\n",
    "    \n",
    "def newsProcess(bot, chat_id, data, sender):\n",
    "    if data[0] == '/news':\n",
    "        nfile = codecs.open('News.txt','r',encoding='utf8')     \n",
    "        bot.sendMessage(chat_id, u''.join(nfile))\n",
    "        return\n",
    "    if sender not in ('djack239', 'Draco_vad'):\n",
    "        if data[0] == '/addNews':\n",
    "            print 'badSender [{}]'.format(sender)\n",
    "        return\n",
    "    if data[0] == '/addNews':\n",
    "        addNews(u' '.join(data[1:]))\n",
    "    elif data[0] == '/clearNews':\n",
    "        nfile = codecs.open('News.txt','w',encoding='utf8')\n",
    "        nfile.close()\n"
   ]
  },
  {
   "cell_type": "code",
   "execution_count": null,
   "metadata": {
    "collapsed": true
   },
   "outputs": [],
   "source": []
  },
  {
   "cell_type": "code",
   "execution_count": 5,
   "metadata": {
    "collapsed": true
   },
   "outputs": [],
   "source": [
    "def handleImpl(msg):\n",
    "    content_type, chat_type, chat_id = telepot.glance(msg)\n",
    "    request = msg['text'].split(' ')\n",
    "    if request[0] == '/schedule':\n",
    "        markup = createCalendar()\n",
    "        bot.sendMessage(chat_id, 'Выберите день', reply_markup=markup)\n",
    "    elif request[0] == '/feis':\n",
    "        keys = [(('Стэйдж листы по школам', 'feiss'),),\n",
    "                (('Статистика по фэшу', 'feisStat'),)]\n",
    "        markup = createMarkup(keys)\n",
    "        bot.sendMessage(chat_id, 'Что вы хотите узнать', reply_markup=markup)\n",
    "    newsProcess(bot, chat_id, request, msg['from']['username'] )\n",
    "\n",
    "def callbackImpl(msg):\n",
    "    query_id, chat_id, query_data = telepot.glance(msg, flavor='callback_query')\n",
    "    data = query_data.split(' ')\n",
    "    processCalendar(bot, chat_id, data)\n",
    "    feisCallback(bot, chat_id, data)\n",
    "\n",
    "\n",
    "def choseImpl(msg):\n",
    "    print 'choseImpl', msg"
   ]
  },
  {
   "cell_type": "code",
   "execution_count": 6,
   "metadata": {},
   "outputs": [],
   "source": [
    "def write(fileName, t, msg):\n",
    "    with open('Logs/{}.txt'.format(fileName), 'a') as logFile:\n",
    "        logFile.write(t)\n",
    "        logFile.write('\\n')\n",
    "        logFile.write(str(msg))\n",
    "        logFile.write('\\n')\n",
    "        logFile.write('\\n')\n"
   ]
  },
  {
   "cell_type": "code",
   "execution_count": 7,
   "metadata": {
    "collapsed": true
   },
   "outputs": [],
   "source": [
    "def handle(msg):\n",
    "    write('logT', 'handle', msg)\n",
    "    return handleImpl(msg)\n",
    "def callback(msg):\n",
    "    write('logT', 'callback', msg)\n",
    "    return callbackImpl(msg)\n",
    "def chose(msg):\n",
    "    write('logT', 'chose', msg)\n",
    "    return choseImpl(msg)\n",
    "\n",
    "token = next(open('token.txt'))\n",
    "bot = telepot.Bot(token)\n",
    "MessageLoop(bot, {'chat': handle,\n",
    "                  'callback_query': callback,\n",
    "                  'chosen_inline_result': chose}).run_as_thread()"
   ]
  },
  {
   "cell_type": "code",
   "execution_count": 8,
   "metadata": {
    "collapsed": true
   },
   "outputs": [],
   "source": [
    "def handleImplF(msg):\n",
    "    content_type, chat_type, chat_id = telepot.glance(msg)\n",
    "    request = msg['text'].split(' ')\n",
    "    if request[0] == '/feis':\n",
    "        keys = [(('Стэйдж листы по школам', 'feiss'),),\n",
    "                (('Статистика по фэшу', 'feisStat'),)]\n",
    "        markup = createMarkup(keys)\n",
    "        botf.sendMessage(chat_id, 'Что вы хотите узнать', reply_markup=markup)\n",
    "\n",
    "def callbackImplF(msg):\n",
    "    query_id, chat_id, query_data = telepot.glance(msg, flavor='callback_query')\n",
    "    data = query_data.split(' ')\n",
    "    feisCallback(botf, chat_id, data)\n",
    "\n",
    "\n",
    "def choseImplF(msg):\n",
    "    print 'choseImpl', msg\n"
   ]
  },
  {
   "cell_type": "code",
   "execution_count": 9,
   "metadata": {},
   "outputs": [],
   "source": [
    "def handleF(msg):\n",
    "    write('logF', 'handle', msg)\n",
    "    return handleImplF(msg)\n",
    "def callbackF(msg):\n",
    "    write('logF', 'callback', msg)\n",
    "    return callbackImplF(msg)\n",
    "def choseF(msg):\n",
    "    write('logF', 'chose', msg)\n",
    "    return choseImplF(msg)\n",
    "\n",
    "token = next(open('feisToken.txt'))\n",
    "botf = telepot.Bot(token)\n",
    "MessageLoop(botf, {'chat': handleF,\n",
    "                  'callback_query': callbackF,\n",
    "                  'chosen_inline_result': choseF}).run_as_thread()"
   ]
  },
  {
   "cell_type": "code",
   "execution_count": null,
   "metadata": {
    "collapsed": true
   },
   "outputs": [],
   "source": []
  }
 ],
 "metadata": {
  "kernelspec": {
   "display_name": "Python 2",
   "language": "python",
   "name": "python2"
  },
  "language_info": {
   "codemirror_mode": {
    "name": "ipython",
    "version": 2
   },
   "file_extension": ".py",
   "mimetype": "text/x-python",
   "name": "python",
   "nbconvert_exporter": "python",
   "pygments_lexer": "ipython2",
   "version": "2.7.13"
  }
 },
 "nbformat": 4,
 "nbformat_minor": 2
}
